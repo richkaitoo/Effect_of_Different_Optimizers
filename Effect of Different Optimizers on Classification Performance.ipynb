{
  "cells": [
    {
      "cell_type": "markdown",
      "metadata": {
        "colab_type": "text",
        "id": "view-in-github"
      },
      "source": [
        "<a href=\"https://colab.research.google.com/github/richkaitoo/Impact-of-Feature-Transformation.ipynb/blob/master/Exploring_the_Impact_of_Feature_Transformation.ipynb\" target=\"_parent\"><img src=\"https://colab.research.google.com/assets/colab-badge.svg\" alt=\"Open In Colab\"/></a>"
      ]
    },
    {
      "cell_type": "markdown",
      "metadata": {},
      "source": [
        "Here's a project idea:\n",
        "\n",
        "*Project:* \n",
        "\n",
        "*Objective:* Investigate the effect of different optimizers on the performance of a neural network classifier on the MNIST dataset.\n",
        "\n",
        "*Optimizers:*\n",
        "\n",
        "1. *Stochastic Gradient Descent (SGD)*\n",
        "2. *Adam*\n",
        "3. *RMSprop*\n",
        "4. *Adagrad*\n",
        "5. *Nadam*\n",
        "\n",
        "*Experiment Design:*\n",
        "\n",
        "1. *Model Architecture:* Use a simple neural network architecture with one hidden layer.\n",
        "2. *Training:* Train the model on the MNIST dataset using each optimizer.\n",
        "3. *Evaluation:* Evaluate the performance of each optimizer using metrics such as accuracy, precision, recall, and F1-score.\n",
        "4. *Comparison:* Compare the performance of each optimizer and determine which one achieves the best results.\n",
        "\n",
        "*Code:*\n",
        "\n",
        "You can use the following Python code using Keras and TensorFlow to implement this project:\n",
        "import numpy as np\n",
        "from tensorflow.keras.datasets import mnist\n",
        "from tensorflow.keras.models import Sequential\n",
        "from tensorflow.keras.layers import Dense\n",
        "from tensorflow.keras.optimizers import SGD, Adam, RMSprop, Adagrad, Nadam\n",
        "from sklearn.metrics import accuracy_score, classification_report\n",
        "\n",
        "# Load MNIST dataset\n",
        "(x_train, y_train), (x_test, y_test) = mnist.load_data()\n",
        "\n",
        "# Preprocess data\n",
        "x_train = x_train.reshape(-1, 784) / 255.0\n",
        "x_test = x_test.reshape(-1, 784) / 255.0\n",
        "\n",
        "# Define model architecture\n",
        "model = Sequential()\n",
        "model.add(Dense(256, activation='relu', input_shape=(784,)))\n",
        "model.add(Dense(10, activation='softmax'))\n",
        "\n",
        "# Define optimizers\n",
        "optimizers = {\n",
        "    'SGD': SGD(),\n",
        "    'Adam': Adam(),\n",
        "    'RMSprop': RMSprop(),\n",
        "    'Adagrad': Adagrad(),\n",
        "    'Nadam': Nadam()\n",
        "}\n",
        "\n",
        "# Train and evaluate model for each optimizer\n",
        "results = {}\n",
        "for name, optimizer in optimizers.items():\n",
        "    model.compile(loss='sparse_categorical_crossentropy', optimizer=optimizer, metrics=['accuracy'])\n",
        "    model.fit(x_train, y_train, epochs=10, batch_size=128, verbose=0)\n",
        "    y_pred = model.predict(x_test)\n",
        "    y_pred_class = np.argmax(y_pred, axis=1)\n",
        "    results[name] = accuracy_score(y_test, y_pred_class)\n",
        "\n",
        "# Print results\n",
        "for name, accuracy in results.items():\n",
        "    print(f'{name}: {accuracy:.3f}')\n",
        "This code trains and evaluates a neural network classifier on the MNIST dataset using each optimizer and prints the accuracy of each optimizer.\n",
        "\n",
        "*Results:*\n",
        "\n",
        "The results will show the performance of each optimizer on the MNIST dataset. You can compare the accuracy of each optimizer to determine which one performs best.\n",
        "\n",
        "*Discussion:*\n",
        "\n",
        "The results of this project can provide insights into the strengths and weaknesses of different optimizers for classification tasks. You can discuss the implications of your findings and how they can be applied to real-world problems."
      ]
    },
    {
      "cell_type": "code",
      "execution_count": null,
      "metadata": {},
      "outputs": [],
      "source": []
    },
    {
      "cell_type": "markdown",
      "metadata": {
        "id": "6_i6Uw8tLBs0"
      },
      "source": []
    }
  ],
  "metadata": {
    "colab": {
      "include_colab_link": true,
      "provenance": []
    },
    "kaggle": {
      "accelerator": "none",
      "dataSources": [
        {
          "datasetId": 1342999,
          "sourceId": 2235268,
          "sourceType": "datasetVersion"
        }
      ],
      "dockerImageVersionId": 31153,
      "isGpuEnabled": false,
      "isInternetEnabled": true,
      "language": "python",
      "sourceType": "notebook"
    },
    "kernelspec": {
      "display_name": "Python 3",
      "language": "python",
      "name": "python3"
    },
    "language_info": {
      "codemirror_mode": {
        "name": "ipython",
        "version": 3
      },
      "file_extension": ".py",
      "mimetype": "text/x-python",
      "name": "python",
      "nbconvert_exporter": "python",
      "pygments_lexer": "ipython3",
      "version": "3.11.13"
    }
  },
  "nbformat": 4,
  "nbformat_minor": 0
}
